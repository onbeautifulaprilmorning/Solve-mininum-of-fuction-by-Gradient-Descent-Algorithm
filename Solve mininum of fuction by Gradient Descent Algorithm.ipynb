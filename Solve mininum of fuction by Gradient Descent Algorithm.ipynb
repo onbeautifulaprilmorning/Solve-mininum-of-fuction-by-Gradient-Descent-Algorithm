{
 "cells": [
  {
   "cell_type": "code",
   "execution_count": null,
   "metadata": {},
   "outputs": [],
   "source": [
    "import numpy as np\n",
    "cur_x = -10\n",
    "rate = 0.01 \n",
    "precision = 0.000001 \n",
    "previous_step_size = 1 \n",
    "max_iters = 10000\n",
    "iters = 0\n",
    "df = lambda x: 2*x + 10*np.cos(x) \n",
    "\n",
    "while previous_step_size > precision and iters < max_iters:\n",
    "    prev_x = cur_x \n",
    "    cur_x = cur_x - rate * df(prev_x)\n",
    "    previous_step_size = abs(cur_x - prev_x) \n",
    "    iters = iters+1 \n",
    "    \n",
    "print(\"The minimum occurs at\", cur_x)"
   ]
  }
 ],
 "metadata": {
  "kernelspec": {
   "display_name": "Python 3",
   "language": "python",
   "name": "python3"
  },
  "language_info": {
   "codemirror_mode": {
    "name": "ipython",
    "version": 3
   },
   "file_extension": ".py",
   "mimetype": "text/x-python",
   "name": "python",
   "nbconvert_exporter": "python",
   "pygments_lexer": "ipython3",
   "version": "3.6.5"
  }
 },
 "nbformat": 4,
 "nbformat_minor": 2
}
